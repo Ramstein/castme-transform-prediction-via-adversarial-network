{
 "cells": [
  {
   "cell_type": "code",
   "execution_count": 28,
   "metadata": {},
   "outputs": [
    {
     "name": "stdout",
     "output_type": "stream",
     "text": [
      "0.1491059\n"
     ]
    }
   ],
   "source": [
    "import random\n",
    "\n",
    "cols = ['index', 'Tongue_Up', 'Tongue_Raise', 'Tongue_Out', 'Tongue_Narrow',\n",
    "       'Tongue_Lower', 'Tongue_Curl-U', 'Tongue_Curl-D', \n",
    "        'Open', 'Explosive', \n",
    "        'Dental_Lip', 'Tight_O', 'Tight', 'Wide', 'Affricate',\n",
    "       'Lip_Open', 'Brow_Raise_Inner_L', 'Brow_Raise_Inner_R', \n",
    "       'Brow_Raise_Outer_L', 'Brow_Raise_Outer_R', 'Brow_Drop_L', 'Brow_Drop_R',\n",
    "       'Brow_Raise_L', 'Brow_Raise_R', 'Eye_Blink', 'Eye_Blink_L', 'Eye_Blink_R',\n",
    "       'Eye_Wide_L', 'Eye_Wide_R', 'Eye_Squint_L', 'Eye_Squint_R', 'Nose_Scrunch',\n",
    "       'Nose_Flanks_Raise', 'Nose_Flank_Raise_L', 'Nose_Flank_Raise_R', 'Nose_Nostrils_Flare',\n",
    "       'Cheek_Raise_L', 'Cheek_Raise_R', 'Cheek_Suck', 'Cheek_Blow_L', 'Cheek_Blow_R',\n",
    "       'Mouth_Smile', 'Mouth_Smile_L', 'Mouth_Smile_R', 'Mouth_Frown', 'Mouth_Frown_L',\n",
    "       'Mouth_Frown_R', 'Mouth_Blow', 'Mouth_Pucker', 'Mouth_Pucker_Open', 'Mouth_Widen', \n",
    "       'Mouth_Widen_Sides', 'Mouth_Dimple_L', 'Mouth_Dimple_R', 'Mouth_Plosive', \n",
    "       'Mouth_Lips_Tight', 'Mouth_Lips_Tuck', 'Mouth_Lips_Open', 'Mouth_Lips_Part', \n",
    "       'Mouth_Bottom_Lip_Down', 'Mouth_Top_Lip_Up', 'Mouth_Top_Lip_Under', 'Mouth_Bottom_Lip_Under',\n",
    "       'Mouth_Snarl_Upper_L', 'Mouth_Snarl_Upper_R', 'Mouth_Snarl_Lower_L', 'Mouth_Snarl_Lower_R', \n",
    "        'Mouth_Bottom_Lip_Bite', 'Mouth_Down',\n",
    "       'Mouth_Up', 'Mouth_L', 'Mouth_R', 'Mouth_Lips_Jaw_Adjust', 'Mouth_Bottom_Lip_Trans', \n",
    "       'Mouth_Skewer','Mouth_Open', 'L_Eye_Theta', 'R_Eye_Theta', 'L_Eye_Phi', 'R_Eye_Phi']\n",
    "\n",
    "print(round(random.random(), 7))"
   ]
  },
  {
   "cell_type": "code",
   "execution_count": 29,
   "metadata": {},
   "outputs": [],
   "source": [
    "f= open('random_morph_targets-79.csv', 'w')\n",
    "\n",
    "column = ''\n",
    "for c in cols:\n",
    "    column += c+','\n",
    "column = column[:-1]+'\\n'\n",
    "f.writelines(column)"
   ]
  },
  {
   "cell_type": "code",
   "execution_count": 30,
   "metadata": {},
   "outputs": [
    {
     "name": "stderr",
     "output_type": "stream",
     "text": [
      "100%|███████████████████████████████████████████████████████████████████████████| 10000/10000 [00:17<00:00, 579.00it/s]\n"
     ]
    }
   ],
   "source": [
    "import tqdm\n",
    "for i in tqdm.tqdm(range(10000)):\n",
    "    line =  str(i+1)+ ',' \n",
    "    for j in range(79):\n",
    "        x = str(round(random.random(), 7))\n",
    "        line += x +','\n",
    "    f.writelines(line[:-1]+'\\n')\n",
    "\n",
    "f.close()"
   ]
  },
  {
   "cell_type": "code",
   "execution_count": null,
   "metadata": {},
   "outputs": [],
   "source": []
  }
 ],
 "metadata": {
  "kernelspec": {
   "display_name": "Python 3",
   "language": "python",
   "name": "python3"
  },
  "language_info": {
   "codemirror_mode": {
    "name": "ipython",
    "version": 3
   },
   "file_extension": ".py",
   "mimetype": "text/x-python",
   "name": "python",
   "nbconvert_exporter": "python",
   "pygments_lexer": "ipython3",
   "version": "3.7.3"
  }
 },
 "nbformat": 4,
 "nbformat_minor": 2
}
